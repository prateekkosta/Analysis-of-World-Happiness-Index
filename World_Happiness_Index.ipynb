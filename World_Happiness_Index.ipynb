{
  "nbformat": 4,
  "nbformat_minor": 0,
  "metadata": {
    "colab": {
      "provenance": [],
      "mount_file_id": "1e0Ei3HUlOLg98e-E7DOMhqIhzgYxGp7Q",
      "authorship_tag": "ABX9TyOglMLmgqGpzpXm1EIx/bFS",
      "include_colab_link": true
    },
    "kernelspec": {
      "name": "python3",
      "display_name": "Python 3"
    },
    "language_info": {
      "name": "python"
    }
  },
  "cells": [
    {
      "cell_type": "markdown",
      "metadata": {
        "id": "view-in-github",
        "colab_type": "text"
      },
      "source": [
        "<a href=\"https://colab.research.google.com/github/prateekkosta/Analysis-of-World-Happiness-Index/blob/main/World_Happiness_Index.ipynb\" target=\"_parent\"><img src=\"https://colab.research.google.com/assets/colab-badge.svg\" alt=\"Open In Colab\"/></a>"
      ]
    },
    {
      "cell_type": "markdown",
      "source": [
        "# **Objective**- Finding the reason behind the Happiness of any country through dataset"
      ],
      "metadata": {
        "id": "T7tyxm5FtbdL"
      }
    },
    {
      "cell_type": "code",
      "execution_count": 1,
      "metadata": {
        "id": "iFydJ8YHtJ8m"
      },
      "outputs": [],
      "source": [
        "import pandas as pd\n",
        "import numpy as np\n",
        "import matplotlib.pyplot as plt\n",
        "import seaborn as sns\n"
      ]
    },
    {
      "cell_type": "code",
      "source": [
        "df_2023= pd.read_csv('/content/drive/MyDrive/World Happiness Index Dataset/WHR2023.csv')"
      ],
      "metadata": {
        "id": "jFtd-ShmtOJD"
      },
      "execution_count": 2,
      "outputs": []
    },
    {
      "cell_type": "code",
      "source": [
        "df_2022= pd.read_csv('/content/drive/MyDrive/World Happiness Index Dataset/World Happiness Report 2022.csv')"
      ],
      "metadata": {
        "id": "7Pjwxyk6tOL1"
      },
      "execution_count": 3,
      "outputs": []
    },
    {
      "cell_type": "code",
      "source": [
        "df_2021= pd.read_csv('/content/drive/MyDrive/World Happiness Index Dataset/2021.csv')"
      ],
      "metadata": {
        "id": "slVUtL2z6kPm"
      },
      "execution_count": 4,
      "outputs": []
    },
    {
      "cell_type": "code",
      "source": [
        "df_2020= pd.read_csv('/content/drive/MyDrive/World Happiness Index Dataset/2020.csv')"
      ],
      "metadata": {
        "id": "tMvCvQzN6tNk"
      },
      "execution_count": 5,
      "outputs": []
    },
    {
      "cell_type": "code",
      "source": [
        "df_2019= pd.read_csv('/content/drive/MyDrive/World Happiness Index Dataset/2019.csv')"
      ],
      "metadata": {
        "id": "IQ2SaB5O6yU2"
      },
      "execution_count": 6,
      "outputs": []
    },
    {
      "cell_type": "code",
      "source": [
        "df_2018= pd.read_csv('/content/drive/MyDrive/World Happiness Index Dataset/2018.csv')"
      ],
      "metadata": {
        "id": "MOlz3O8m61Tu"
      },
      "execution_count": 7,
      "outputs": []
    },
    {
      "cell_type": "code",
      "source": [
        "df_2017= pd.read_csv('/content/drive/MyDrive/World Happiness Index Dataset/2017.csv')"
      ],
      "metadata": {
        "id": "XwbEuGWu64l1"
      },
      "execution_count": 8,
      "outputs": []
    },
    {
      "cell_type": "code",
      "source": [
        "df_2016= pd.read_csv('/content/drive/MyDrive/World Happiness Index Dataset/2016.csv')"
      ],
      "metadata": {
        "id": "l6HH8xof68_F"
      },
      "execution_count": 9,
      "outputs": []
    },
    {
      "cell_type": "code",
      "source": [
        "df_2015= pd.read_csv('/content/drive/MyDrive/World Happiness Index Dataset/2015.csv')"
      ],
      "metadata": {
        "id": "U4N5V-rE7A02"
      },
      "execution_count": 10,
      "outputs": []
    },
    {
      "cell_type": "code",
      "source": [
        "df_2023.describe()"
      ],
      "metadata": {
        "id": "rezT14n2tOPC"
      },
      "execution_count": null,
      "outputs": []
    },
    {
      "cell_type": "code",
      "source": [
        "df_2023.shape"
      ],
      "metadata": {
        "id": "Mav4WziHtORm"
      },
      "execution_count": null,
      "outputs": []
    },
    {
      "cell_type": "code",
      "source": [
        "df_2023.isnull().sum()"
      ],
      "metadata": {
        "id": "8mJmvUCptOUa"
      },
      "execution_count": null,
      "outputs": []
    },
    {
      "cell_type": "code",
      "source": [
        "df_2023.corr()"
      ],
      "metadata": {
        "id": "pdgTtODxtOXt"
      },
      "execution_count": null,
      "outputs": []
    },
    {
      "cell_type": "code",
      "source": [
        "df_2023.duplicated().sum()"
      ],
      "metadata": {
        "id": "5PE2eJy7tOcj"
      },
      "execution_count": null,
      "outputs": []
    },
    {
      "cell_type": "code",
      "source": [
        "df_2023.isnull().sum()"
      ],
      "metadata": {
        "id": "eTnupUh-tOs6"
      },
      "execution_count": null,
      "outputs": []
    },
    {
      "cell_type": "code",
      "source": [
        "df_2023.fillna(0, inplace= True)"
      ],
      "metadata": {
        "id": "xpCs687wtOwR"
      },
      "execution_count": 17,
      "outputs": []
    },
    {
      "cell_type": "code",
      "source": [
        "df_2023.isnull().sum()"
      ],
      "metadata": {
        "id": "gqsZUd0NtO0U"
      },
      "execution_count": null,
      "outputs": []
    },
    {
      "cell_type": "code",
      "source": [
        "print('2023\\n',df_2023.isnull().sum())\n",
        "\n",
        "print('2022\\n',df_2022.isnull().sum())\n",
        "\n",
        "print('2021\\n',df_2021.isnull().sum())\n",
        "\n",
        "print('2020\\n',df_2020.isnull().sum())\n",
        "\n",
        "print('2019\\n',df_2019.isnull().sum())\n",
        "\n",
        "print('2018\\n',df_2018.isnull().sum())\n",
        "\n",
        "print('2017\\n',df_2017.isnull().sum())\n",
        "\n",
        "print('2016\\n',df_2016.isnull().sum())\n",
        "\n",
        "print('2015\\n',df_2015.isnull().sum())"
      ],
      "metadata": {
        "id": "GJ7Bez5NtO3X"
      },
      "execution_count": null,
      "outputs": []
    },
    {
      "cell_type": "code",
      "source": [
        "df_2018.fillna(0, inplace= True)"
      ],
      "metadata": {
        "id": "tenIoeaUtO6R"
      },
      "execution_count": 20,
      "outputs": []
    },
    {
      "cell_type": "code",
      "source": [
        "df_2018.isnull().sum()"
      ],
      "metadata": {
        "id": "7ktD-fs6tO9C"
      },
      "execution_count": null,
      "outputs": []
    },
    {
      "cell_type": "code",
      "source": [],
      "metadata": {
        "id": "pefRkEk1tPAU"
      },
      "execution_count": 21,
      "outputs": []
    },
    {
      "cell_type": "code",
      "source": [
        "df_2017= df_2017.rename(columns= {'Happiness.Rank': 'Happiness Rank', 'Happiness.Score':\"Happiness Score\", 'Whisker.high':'Whisker high',\n",
        "                                  'Whisker.low':'Whisker low',\n",
        "                                  'Economy..GDP.per.Capita.': 'Economy GDP per Capita',\n",
        "                                  'Health..Life.Expectancy.': 'Health Life Expectancy',\n",
        "                                  'Trust..Government.Corruption.': 'Trust Government Corruption',\n",
        "                                  'Dystopia.Residual':'Dystopia Residual'\n",
        "                                  })"
      ],
      "metadata": {
        "id": "LLCBTJ7OtPDd"
      },
      "execution_count": 22,
      "outputs": []
    },
    {
      "cell_type": "markdown",
      "source": [
        "Inserting a Rank column in 2020,2021 and 2023 Data\n"
      ],
      "metadata": {
        "id": "XpLN7zOfQ0qU"
      }
    },
    {
      "cell_type": "code",
      "source": [
        "df_2023['Happiness Rank']= df_2023.index +1\n",
        "df_2021['Happiness Rank']= df_2021.index +1\n",
        "df_2020['Happiness Rank']= df_2020.index +1"
      ],
      "metadata": {
        "id": "0OTkG0pJCoXC"
      },
      "execution_count": 23,
      "outputs": []
    },
    {
      "cell_type": "code",
      "source": [
        "df_2020.head()"
      ],
      "metadata": {
        "id": "CMdsf4wlCoeV"
      },
      "execution_count": null,
      "outputs": []
    },
    {
      "cell_type": "code",
      "source": [
        "print(\"{}\\n{}\\n{}\\n{}\\n{}\\n{}\\n{}\\n{}\\n{}\".format(df_2015.columns,df_2017.columns,df_2016.columns, df_2018.columns, df_2019.columns,\n",
        "                                        df_2020.columns,df_2021.columns,df_2022.columns, df_2023.columns))"
      ],
      "metadata": {
        "id": "obdjLCj7C7si"
      },
      "execution_count": null,
      "outputs": []
    },
    {
      "cell_type": "code",
      "source": [
        "df_2015= df_2015.rename(columns= {'Economy (GDP per Capita)': 'Economy GDP per Capita', 'Health (Life Expectancy)':'Healthy life expectancy',\n",
        "                                  'Freedom':'Freedom to make life choices',\n",
        "                                  'Trust (Government Corruption)':'Perceptions of corruption'})\n",
        "\n",
        "df_2016= df_2016.rename(columns= {'Economy (GDP per Capita)': 'Economy GDP per Capita',\n",
        "                                  'Health (Life Expectancy)':'Healthy life expectancy',\n",
        "                                  'Freedom':'Freedom to make life choices',\n",
        "                                  'Trust (Government Corruption)':'Perceptions of corruption'})\n",
        "df_2017= df_2017.rename(columns= {'Trust Government Corruption':'Perceptions of corruption', 'Health Life Expectancy':'Healthy life expectancy',\n",
        "                                  'Freedom':'Freedom to make life choices'})\n",
        "\n",
        "df_2018= df_2018.rename(columns= {'GDP per capita': 'Economy GDP per Capita', 'Overall rank':\"Happiness Rank\",\n",
        "                                  'Country or region':'Country','Score': 'Happiness Score'})\n",
        "\n",
        "df_2019= df_2019.rename(columns= {'GDP per capita': 'Economy GDP per Capita', 'Overall rank':\"Happiness Rank\",\n",
        "                                  'Country or region':'Country', 'Score': 'Happiness Score'})\n",
        "df_2020= df_2020.rename(columns= {'Logged GDP per capita': 'Economy GDP per Capita', 'Ladder score':\"Happiness Score\",\n",
        "                                  'Country name':'Country'})\n",
        "df_2021= df_2021.rename(columns= {'Logged GDP per capita': 'Economy GDP per Capita', 'Ladder score':\"Happiness Score\",\n",
        "                                  'Country name':'Country'})\n",
        "df_2022= df_2022.rename(columns= {'RANK':\"Happiness Rank\",'Happiness score': 'Happiness Score'})\n",
        "df_2023= df_2023.rename(columns= {'Logged GDP per capita':'Economy GDP per Capita', 'Ladder score':\"Happiness Score\",\n",
        "                                  'Country name':'Country'})"
      ],
      "metadata": {
        "id": "T0pKKuKlColp"
      },
      "execution_count": 26,
      "outputs": []
    },
    {
      "cell_type": "markdown",
      "source": [
        "Finding Common Columns between all Datasets.\n"
      ],
      "metadata": {
        "id": "82BACgK9_mFQ"
      }
    },
    {
      "cell_type": "code",
      "source": [
        "from pandas.io.formats.format import common_docstring\n",
        "column_sets= [set(df.columns) for df in [df_2023, df_2021, df_2020, df_2019,df_2018,\n",
        "                              df_2017,df_2016,df_2015]]\n",
        "common_columns= set.intersection(*column_sets)\n",
        "print('Common Columns', common_columns)"
      ],
      "metadata": {
        "id": "hkqX-3hAtPHU"
      },
      "execution_count": null,
      "outputs": []
    },
    {
      "cell_type": "code",
      "source": [],
      "metadata": {
        "id": "R4vK5CpBmOEX"
      },
      "execution_count": 27,
      "outputs": []
    },
    {
      "cell_type": "code",
      "source": [
        "df_2015=df_2015.drop(['Region', 'Family','Standard Error','Dystopia Residual'], axis= 1)"
      ],
      "metadata": {
        "id": "pW1Knd0vtPhV"
      },
      "execution_count": 28,
      "outputs": []
    },
    {
      "cell_type": "code",
      "source": [
        "df_2016=df_2016.drop(['Region', 'Family','Lower Confidence Interval','Upper Confidence Interval','Dystopia Residual'], axis= 1)"
      ],
      "metadata": {
        "id": "90omwogUtPrW"
      },
      "execution_count": 29,
      "outputs": []
    },
    {
      "cell_type": "code",
      "source": [
        "df_2017=df_2017.drop(['Whisker high', 'Whisker low','Family','Dystopia Residual'], axis= 1)"
      ],
      "metadata": {
        "id": "ryH7smGGtPng"
      },
      "execution_count": 30,
      "outputs": []
    },
    {
      "cell_type": "code",
      "source": [
        "df_2018=df_2018.drop(['Social support'], axis= 1)"
      ],
      "metadata": {
        "id": "PgZk7qo-tPux"
      },
      "execution_count": 31,
      "outputs": []
    },
    {
      "cell_type": "code",
      "source": [
        "df_2019=df_2019.drop(['Social support'], axis= 1)"
      ],
      "metadata": {
        "id": "Ne3h6CinpiT_"
      },
      "execution_count": 32,
      "outputs": []
    },
    {
      "cell_type": "code",
      "source": [
        "df_2020=df_2020.drop(['Regional indicator', 'Standard error of ladder score','upperwhisker','Dystopia + residual', 'lowerwhisker','Social support',\n",
        "                      'Ladder score in Dystopia','Explained by: Log GDP per capita',\n",
        "                      'Explained by: Social support','Explained by: Healthy life expectancy',\n",
        "                      'Explained by: Freedom to make life choices','Explained by: Generosity',\n",
        "                      'Explained by: Perceptions of corruption'], axis= 1)"
      ],
      "metadata": {
        "id": "C4ojAH8ppiZU"
      },
      "execution_count": 33,
      "outputs": []
    },
    {
      "cell_type": "code",
      "source": [
        "df_2021=df_2021.drop(['Regional indicator', 'Standard error of ladder score','upperwhisker','Dystopia + residual', 'lowerwhisker','Social support',\n",
        "                      'Ladder score in Dystopia','Explained by: Log GDP per capita',\n",
        "                      'Explained by: Social support','Explained by: Healthy life expectancy',\n",
        "                      'Explained by: Freedom to make life choices','Explained by: Generosity',\n",
        "                      'Explained by: Perceptions of corruption'], axis= 1)"
      ],
      "metadata": {
        "id": "lfFJZ_yPpifj"
      },
      "execution_count": 34,
      "outputs": []
    },
    {
      "cell_type": "code",
      "source": [
        "df_2022=df_2022.drop(['Whisker-high','Dystopia (1.83) + residual', 'Whisker-low',\n",
        "                      'Explained by: GDP per capita',\n",
        "                      'Explained by: Social support','Explained by: Healthy life expectancy',\n",
        "                      'Explained by: Freedom to make life choices','Explained by: Generosity',\n",
        "                      'Explained by: Perceptions of corruption'], axis= 1)"
      ],
      "metadata": {
        "id": "Pk2KvsP0pijT"
      },
      "execution_count": 35,
      "outputs": []
    },
    {
      "cell_type": "markdown",
      "source": [
        "##**Analysis Of Data**"
      ],
      "metadata": {
        "id": "kg9Yq14idLZn"
      }
    },
    {
      "cell_type": "code",
      "source": [
        "df_2015= df_2015.set_index(\"Country\")"
      ],
      "metadata": {
        "id": "_-_5jskLC704"
      },
      "execution_count": 36,
      "outputs": []
    },
    {
      "cell_type": "code",
      "source": [
        "df_2016= df_2016.set_index(\"Country\")"
      ],
      "metadata": {
        "id": "zaPKlPgsC74O"
      },
      "execution_count": 37,
      "outputs": []
    },
    {
      "cell_type": "code",
      "source": [
        "df_2017= df_2017.set_index(\"Country\")"
      ],
      "metadata": {
        "id": "qAnb4Yx8C78r"
      },
      "execution_count": 38,
      "outputs": []
    },
    {
      "cell_type": "code",
      "source": [
        "df_2018= df_2018.set_index(\"Country\")"
      ],
      "metadata": {
        "id": "G03ygTEFC8Be"
      },
      "execution_count": 39,
      "outputs": []
    },
    {
      "cell_type": "code",
      "source": [
        "df_2019= df_2019.set_index(\"Country\")"
      ],
      "metadata": {
        "id": "PykfBiAsCort"
      },
      "execution_count": 40,
      "outputs": []
    },
    {
      "cell_type": "code",
      "source": [
        "df_2020= df_2020.set_index(\"Country\")"
      ],
      "metadata": {
        "id": "iq74IhR-ie_b"
      },
      "execution_count": 41,
      "outputs": []
    },
    {
      "cell_type": "code",
      "source": [
        "df_2021= df_2021.set_index(\"Country\")"
      ],
      "metadata": {
        "id": "NXt9oCDGifPw"
      },
      "execution_count": 42,
      "outputs": []
    },
    {
      "cell_type": "code",
      "source": [
        "df_2022= df_2022.set_index(\"Country\")"
      ],
      "metadata": {
        "id": "9gMfmpIPifY3"
      },
      "execution_count": 43,
      "outputs": []
    },
    {
      "cell_type": "code",
      "source": [
        "df_2023= df_2023.set_index(\"Country\")"
      ],
      "metadata": {
        "id": "ElHnF_cvifdY"
      },
      "execution_count": 44,
      "outputs": []
    },
    {
      "cell_type": "code",
      "source": [
        "India_2015= df_2015.loc[['India']]\n",
        "India_2016= df_2016.loc[['India']]\n",
        "India_2017= df_2017.loc[['India']]"
      ],
      "metadata": {
        "id": "X-9fcRYwtPKO"
      },
      "execution_count": 45,
      "outputs": []
    },
    {
      "cell_type": "code",
      "source": [
        "df_2023=df_2023.drop(['Standard error of ladder score','upperwhisker','Dystopia + residual', 'lowerwhisker','Social support',\n",
        "                      'Ladder score in Dystopia','Explained by: Log GDP per capita',\n",
        "                      'Explained by: Social support','Explained by: Healthy life expectancy',\n",
        "                      'Explained by: Freedom to make life choices','Explained by: Generosity',\n",
        "                      'Explained by: Perceptions of corruption'], axis= 1)"
      ],
      "metadata": {
        "id": "uDnCfpvupimg"
      },
      "execution_count": 46,
      "outputs": []
    },
    {
      "cell_type": "code",
      "source": [
        "India_2018= df_2018.loc[['India']]\n",
        "India_2019= df_2019.loc[['India']]\n",
        "India_2020= df_2020.loc[['India']]"
      ],
      "metadata": {
        "id": "Ywa54ShctPNU"
      },
      "execution_count": 47,
      "outputs": []
    },
    {
      "cell_type": "code",
      "source": [
        "India_2021= df_2021.loc[['India']]\n",
        "India_2022 = df_2022.loc[['India']]\n",
        "India_2023= df_2023.loc[['India']]"
      ],
      "metadata": {
        "id": "UZrIzRUftPSP"
      },
      "execution_count": 48,
      "outputs": []
    },
    {
      "cell_type": "code",
      "source": [
        "India_2015['Year']= 2015\n",
        "India_2016['Year']= 2016\n",
        "India_2017['Year']= 2017\n",
        "India_2018['Year']= 2018\n",
        "India_2019['Year']= 2019\n",
        "India_2020['Year']= 2020\n",
        "India_2021['Year']= 2021\n",
        "India_2022['Year']= 2022\n",
        "India_2023['Year']= 2023\n"
      ],
      "metadata": {
        "id": "5c0ItmQ5tPXY"
      },
      "execution_count": 49,
      "outputs": []
    },
    {
      "cell_type": "markdown",
      "source": [
        "Combining All the Datasets of India"
      ],
      "metadata": {
        "id": "xQqhdhUCkRye"
      }
    },
    {
      "cell_type": "code",
      "source": [
        "India_2015_2023 = pd.concat([India_2015,India_2016,India_2017, India_2018, India_2019, India_2020, India_2021,\n",
        "                            India_2022, India_2023], ignore_index= True, sort= False)"
      ],
      "metadata": {
        "id": "2EopqTKTtPa9"
      },
      "execution_count": 50,
      "outputs": []
    },
    {
      "cell_type": "code",
      "source": [
        "India_2015_2023.sort_values(by='Year')"
      ],
      "metadata": {
        "id": "jhAM4cDWtPdt"
      },
      "execution_count": null,
      "outputs": []
    },
    {
      "cell_type": "markdown",
      "source": [
        "### Now we will find the relationship between Happiness score and Other variables."
      ],
      "metadata": {
        "id": "pE-sS-0DvFQk"
      }
    },
    {
      "cell_type": "code",
      "source": [
        "#Relationship between Happiness Score and Economy GDP per Capita\n",
        "\n",
        "plt.scatter(df_2023['Happiness Score'],df_2023['Economy GDP per Capita'], color='green')\n",
        "x= df_2023['Happiness Score']\n",
        "z=np.polyfit(df_2023['Happiness Score'], df_2023['Economy GDP per Capita'],1)\n",
        "\n",
        "p=np.poly1d(z)\n",
        "plt.plot(df_2023['Happiness Score'],p(x), color= 'brown', linewidth= 3)\n",
        "plt.title('Happiness Score vs Economy GDP per Capita', color= 'red')\n",
        "plt.xlabel('Happiness Score', color= 'red')\n",
        "plt.ylabel('Economy GDP per Capita', color= 'red')"
      ],
      "metadata": {
        "id": "ZPjsZ0f-pip-"
      },
      "execution_count": null,
      "outputs": []
    },
    {
      "cell_type": "code",
      "source": [
        "# relationship between Happiness score and Healthy Life expectancy\n",
        "\n",
        "plt.scatter(df_2023['Happiness Score'], df_2023['Healthy life expectancy'], color= 'green')\n",
        "x= df_2023['Happiness Score']\n",
        "z= np.polyfit(df_2023['Happiness Score'], df_2023['Healthy life expectancy'],1)\n",
        "\n",
        "#Adding Trendline to the plot\n",
        "\n",
        "p=np.poly1d(z)\n",
        "plt.plot(df_2023['Happiness Score'], p(x), color= 'brown', linewidth= 3)\n",
        "\n",
        "plt.title('Happiness Score vs Healthy life expectancy',  color= 'red')\n",
        "plt.xlabel('Happiness Score', color = 'red')\n",
        "plt.ylabel('Healthy life expectancy', color= 'red')"
      ],
      "metadata": {
        "id": "gOw97Iz-pit6"
      },
      "execution_count": null,
      "outputs": []
    },
    {
      "cell_type": "code",
      "source": [
        "#Relationship between Happiness Score and Perception of Corruption\n",
        "\n",
        "plt.scatter(df_2023['Happiness Score'], df_2023['Perceptions of corruption'], color= 'green')\n",
        "x= df_2023['Happiness Score']\n",
        "z=np.polyfit(df_2023['Happiness Score'], df_2023['Perceptions of corruption'], 1)\n",
        "\n",
        "#Adding Trendline in Graph\n",
        "p= np.poly1d(z)\n",
        "plt.plot(df_2023['Happiness Score'], p(x), color= 'brown', linewidth= 3)\n",
        "\n",
        "plt.title('Happiness Score vs Perceptions of corruption',  color= 'red')\n",
        "plt.xlabel('Happiness Score', color= 'red')\n",
        "plt.ylabel('Perceptions of corruption', color= 'red')"
      ],
      "metadata": {
        "id": "O6hSkohspiyU"
      },
      "execution_count": null,
      "outputs": []
    },
    {
      "cell_type": "markdown",
      "source": [
        "## Comapring India and neighborhood countries."
      ],
      "metadata": {
        "id": "3K3TVgixt1hp"
      }
    },
    {
      "cell_type": "code",
      "source": [
        "df_2023.loc[['India', 'Pakistan','Nepal', 'Sri Lanka', 'China', 'Afghanistan', 'Bangladesh' ], 'Happiness Rank']"
      ],
      "metadata": {
        "id": "uAS4Agmapi1K"
      },
      "execution_count": null,
      "outputs": []
    },
    {
      "cell_type": "code",
      "source": [
        "df_2023_new= df_2023.loc[['India', 'Pakistan','Nepal', 'Sri Lanka', 'China', 'Afghanistan', 'Bangladesh' ],:]"
      ],
      "metadata": {
        "id": "fPzdiC8Lpi4Y"
      },
      "execution_count": 56,
      "outputs": []
    },
    {
      "cell_type": "code",
      "source": [
        "df_2023_new= df_2023_new.sort_values(by='Happiness Rank')"
      ],
      "metadata": {
        "id": "WjmSoOsypi7n"
      },
      "execution_count": 57,
      "outputs": []
    },
    {
      "cell_type": "markdown",
      "source": [
        "## Plotting Graph of Comparison."
      ],
      "metadata": {
        "id": "UfyF2MKkwPgo"
      }
    },
    {
      "cell_type": "code",
      "source": [
        "cmp= df_2023_new.plot(kind= 'bar', figsize=(15,6), width= .5)\n",
        "\n",
        "cmp.bar_label(cmp.containers[0], color= 'black', rotation= 90)\n",
        "plt.title('India vs neighbourhood countries Happiness report of 2023', color= 'blue', fontsize= 18)\n",
        "plt.ylabel('Values', color='blue')\n",
        "plt.xlabel('Countries', color= 'blue')\n",
        "plt.xticks(rotation=0)\n",
        "cmp.bar_label(cmp.containers[1], color= 'red', rotation= 90, label_type='edge')\n",
        "cmp.bar_label(cmp.containers[2], color= 'blue', rotation= 90)\n",
        "cmp.bar_label(cmp.containers[3], color= 'purple', rotation= 90)\n",
        "cmp.bar_label(cmp.containers[4], color= 'brown', rotation= 90)\n",
        "cmp.bar_label(cmp.containers[5], color= 'orange', rotation= 90)\n",
        "cmp.bar_label(cmp.containers[6], color= 'green', rotation= 90)\n"
      ],
      "metadata": {
        "id": "vI-gVxzCpi-2"
      },
      "execution_count": null,
      "outputs": []
    },
    {
      "cell_type": "markdown",
      "source": [
        "# Analyzing India's Happiness report."
      ],
      "metadata": {
        "id": "JoNWuhov4riw"
      }
    },
    {
      "cell_type": "code",
      "source": [
        "# Creating Subplot for Multiple bar graph\n",
        "\n",
        "categories= India_2015_2023.columns[:-1]\n",
        "year= India_2015_2023['Year']\n",
        "num_cate= len(categories)\n",
        "\n",
        "fig, axes= plt.subplots(num_cate,1, figsize= (8,6*num_cate))\n",
        "axes= axes.flatten()\n",
        "# Plotting Bar Graphs\n",
        "for i, (ax, category) in enumerate(zip(axes,categories)):\n",
        "  values= India_2015_2023[category]\n",
        "  ax.bar(year,values, color= 'green')\n",
        "  ax.set_title(f'{category} over Years')\n",
        "  ax.set_xlabel('Year')\n",
        "  ax.set_ylabel('Values')\n",
        "  ax.set_xticks(year)\n",
        "  ax.tick_params(axis= 'x',rotation= 45)\n",
        "  ax.bar_label(ax.containers[0], color= 'black')\n",
        "\n",
        "plt.tight_layout()"
      ],
      "metadata": {
        "id": "fLhVDliS-1MR"
      },
      "execution_count": null,
      "outputs": []
    },
    {
      "cell_type": "code",
      "source": [],
      "metadata": {
        "id": "4OYZqTwTwNla"
      },
      "execution_count": 60,
      "outputs": []
    },
    {
      "cell_type": "code",
      "source": [],
      "metadata": {
        "id": "Gx_klQXwwNpO"
      },
      "execution_count": 60,
      "outputs": []
    },
    {
      "cell_type": "code",
      "source": [],
      "metadata": {
        "id": "GlCQuGoDwNss"
      },
      "execution_count": 60,
      "outputs": []
    },
    {
      "cell_type": "code",
      "source": [],
      "metadata": {
        "id": "EVdmIHRowNv0"
      },
      "execution_count": 60,
      "outputs": []
    },
    {
      "cell_type": "code",
      "source": [],
      "metadata": {
        "id": "9DCm3hBewNzK"
      },
      "execution_count": 60,
      "outputs": []
    },
    {
      "cell_type": "code",
      "source": [],
      "metadata": {
        "id": "R0_RE3eawN2s"
      },
      "execution_count": 60,
      "outputs": []
    },
    {
      "cell_type": "code",
      "source": [],
      "metadata": {
        "id": "ooG11-6kwN6G"
      },
      "execution_count": 60,
      "outputs": []
    },
    {
      "cell_type": "code",
      "source": [],
      "metadata": {
        "id": "LHCYWZ5vwN_F"
      },
      "execution_count": 60,
      "outputs": []
    },
    {
      "cell_type": "code",
      "source": [],
      "metadata": {
        "id": "EWPM4KxLwOCI"
      },
      "execution_count": 60,
      "outputs": []
    },
    {
      "cell_type": "code",
      "source": [],
      "metadata": {
        "id": "-S6BFPnuwOFF"
      },
      "execution_count": 60,
      "outputs": []
    },
    {
      "cell_type": "code",
      "source": [],
      "metadata": {
        "id": "gAwMYWB1pjCy"
      },
      "execution_count": 60,
      "outputs": []
    },
    {
      "cell_type": "code",
      "source": [],
      "metadata": {
        "id": "L6bxGr2vpjF_"
      },
      "execution_count": 60,
      "outputs": []
    }
  ]
}